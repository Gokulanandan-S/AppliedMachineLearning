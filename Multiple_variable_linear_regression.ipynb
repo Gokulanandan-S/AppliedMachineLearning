{
  "nbformat": 4,
  "nbformat_minor": 0,
  "metadata": {
    "colab": {
      "provenance": []
    },
    "kernelspec": {
      "name": "python3",
      "display_name": "Python 3"
    },
    "language_info": {
      "name": "python"
    }
  },
  "cells": [
    {
      "cell_type": "code",
      "execution_count": null,
      "metadata": {
        "colab": {
          "base_uri": "https://localhost:8080/"
        },
        "id": "ZuXT-LxmCuZo",
        "outputId": "efa5f39d-afe9-4700-f94b-813efe5c3d46"
      },
      "outputs": [
        {
          "output_type": "stream",
          "name": "stdout",
          "text": [
            "Looking in indexes: https://pypi.org/simple, https://us-python.pkg.dev/colab-wheels/public/simple/\n",
            "Requirement already satisfied: statsmodels in /usr/local/lib/python3.8/dist-packages (0.12.2)\n",
            "Requirement already satisfied: pandas>=0.21 in /usr/local/lib/python3.8/dist-packages (from statsmodels) (1.3.5)\n",
            "Requirement already satisfied: scipy>=1.1 in /usr/local/lib/python3.8/dist-packages (from statsmodels) (1.7.3)\n",
            "Requirement already satisfied: numpy>=1.15 in /usr/local/lib/python3.8/dist-packages (from statsmodels) (1.21.6)\n",
            "Requirement already satisfied: patsy>=0.5 in /usr/local/lib/python3.8/dist-packages (from statsmodels) (0.5.3)\n",
            "Requirement already satisfied: pytz>=2017.3 in /usr/local/lib/python3.8/dist-packages (from pandas>=0.21->statsmodels) (2022.6)\n",
            "Requirement already satisfied: python-dateutil>=2.7.3 in /usr/local/lib/python3.8/dist-packages (from pandas>=0.21->statsmodels) (2.8.2)\n",
            "Requirement already satisfied: six in /usr/local/lib/python3.8/dist-packages (from patsy>=0.5->statsmodels) (1.15.0)\n"
          ]
        }
      ],
      "source": [
        "!pip install statsmodels"
      ]
    },
    {
      "cell_type": "code",
      "source": [
        "import pandas as pd\n",
        "import statsmodels.formula.api as sm\n",
        "import seaborn as sns\n",
        "import matplotlib.pyplot as plt\n",
        "import statsmodels"
      ],
      "metadata": {
        "id": "H10ljeenDEIU"
      },
      "execution_count": null,
      "outputs": []
    },
    {
      "cell_type": "markdown",
      "source": [
        "Multiple variable linear regression"
      ],
      "metadata": {
        "id": "c9_ZHu_Ua8G6"
      }
    },
    {
      "cell_type": "code",
      "source": [
        "from google.colab import drive"
      ],
      "metadata": {
        "id": "lp065B7cDh6P"
      },
      "execution_count": null,
      "outputs": []
    },
    {
      "cell_type": "code",
      "source": [
        "ls"
      ],
      "metadata": {
        "colab": {
          "base_uri": "https://localhost:8080/"
        },
        "id": "ldW0vR_1DyKF",
        "outputId": "0b696116-d5cd-4f68-ca1e-02f13965483c"
      },
      "execution_count": null,
      "outputs": [
        {
          "output_type": "stream",
          "name": "stdout",
          "text": [
            "'CAR DETAILS FROM CAR DEKHO.csv'   heart_failure1.gsheet   markset.csv\n",
            "'diabetes - diabetes (1).csv'      heart_failure.csv       Stock_exchange.csv\n",
            " diabetes.gsheet                   house_data.csv          student.csv\n",
            " head_brain.csv                    indexData.csv           water_potability.csv\n",
            " heart.csv                         IRIS.csv\n"
          ]
        }
      ]
    },
    {
      "cell_type": "code",
      "source": [
        "drive.mount(\"/content/drive\")"
      ],
      "metadata": {
        "colab": {
          "base_uri": "https://localhost:8080/"
        },
        "id": "TgAGxeCuDn-k",
        "outputId": "d6af5fd5-7beb-411a-ec84-d2c4760c7a09"
      },
      "execution_count": null,
      "outputs": [
        {
          "output_type": "stream",
          "name": "stdout",
          "text": [
            "Drive already mounted at /content/drive; to attempt to forcibly remount, call drive.mount(\"/content/drive\", force_remount=True).\n"
          ]
        }
      ]
    },
    {
      "cell_type": "code",
      "source": [
        "cd /content/drive/My Drive/Dataset"
      ],
      "metadata": {
        "colab": {
          "base_uri": "https://localhost:8080/"
        },
        "id": "MCShEmwFr3do",
        "outputId": "15190dd7-ca4d-47bd-f296-7ea7b18481f6"
      },
      "execution_count": null,
      "outputs": [
        {
          "output_type": "stream",
          "name": "stdout",
          "text": [
            "/content/drive/My Drive/Dataset\n"
          ]
        }
      ]
    },
    {
      "cell_type": "code",
      "source": [
        "ds=pd.read_csv(\"markset.csv\")\n"
      ],
      "metadata": {
        "id": "K-IDO8hRbV7m"
      },
      "execution_count": null,
      "outputs": []
    },
    {
      "cell_type": "code",
      "source": [
        "ds"
      ],
      "metadata": {
        "colab": {
          "base_uri": "https://localhost:8080/",
          "height": 424
        },
        "id": "6CsM7CFATrtp",
        "outputId": "59a7d692-d60d-4b2e-8378-a18359bcd391"
      },
      "execution_count": null,
      "outputs": [
        {
          "output_type": "execute_result",
          "data": {
            "text/plain": [
              "     youtube  facebook  newspaper  sales\n",
              "0      84.72     19.20      48.96  12.60\n",
              "1     351.48     33.96      51.84  25.68\n",
              "2     135.48     20.88      46.32  14.28\n",
              "3     116.64      1.80      36.00  11.52\n",
              "4     318.72     24.00       0.36  20.88\n",
              "..       ...       ...        ...    ...\n",
              "166    45.84      4.44      16.56   9.12\n",
              "167   113.04      5.88       9.72  11.64\n",
              "168   212.40     11.16       7.68  15.36\n",
              "169   340.32     50.40      79.44  30.60\n",
              "170   278.52     10.32      10.44  16.08\n",
              "\n",
              "[171 rows x 4 columns]"
            ],
            "text/html": [
              "\n",
              "  <div id=\"df-e2240813-5cc9-459e-94c1-3fcc407edc84\">\n",
              "    <div class=\"colab-df-container\">\n",
              "      <div>\n",
              "<style scoped>\n",
              "    .dataframe tbody tr th:only-of-type {\n",
              "        vertical-align: middle;\n",
              "    }\n",
              "\n",
              "    .dataframe tbody tr th {\n",
              "        vertical-align: top;\n",
              "    }\n",
              "\n",
              "    .dataframe thead th {\n",
              "        text-align: right;\n",
              "    }\n",
              "</style>\n",
              "<table border=\"1\" class=\"dataframe\">\n",
              "  <thead>\n",
              "    <tr style=\"text-align: right;\">\n",
              "      <th></th>\n",
              "      <th>youtube</th>\n",
              "      <th>facebook</th>\n",
              "      <th>newspaper</th>\n",
              "      <th>sales</th>\n",
              "    </tr>\n",
              "  </thead>\n",
              "  <tbody>\n",
              "    <tr>\n",
              "      <th>0</th>\n",
              "      <td>84.72</td>\n",
              "      <td>19.20</td>\n",
              "      <td>48.96</td>\n",
              "      <td>12.60</td>\n",
              "    </tr>\n",
              "    <tr>\n",
              "      <th>1</th>\n",
              "      <td>351.48</td>\n",
              "      <td>33.96</td>\n",
              "      <td>51.84</td>\n",
              "      <td>25.68</td>\n",
              "    </tr>\n",
              "    <tr>\n",
              "      <th>2</th>\n",
              "      <td>135.48</td>\n",
              "      <td>20.88</td>\n",
              "      <td>46.32</td>\n",
              "      <td>14.28</td>\n",
              "    </tr>\n",
              "    <tr>\n",
              "      <th>3</th>\n",
              "      <td>116.64</td>\n",
              "      <td>1.80</td>\n",
              "      <td>36.00</td>\n",
              "      <td>11.52</td>\n",
              "    </tr>\n",
              "    <tr>\n",
              "      <th>4</th>\n",
              "      <td>318.72</td>\n",
              "      <td>24.00</td>\n",
              "      <td>0.36</td>\n",
              "      <td>20.88</td>\n",
              "    </tr>\n",
              "    <tr>\n",
              "      <th>...</th>\n",
              "      <td>...</td>\n",
              "      <td>...</td>\n",
              "      <td>...</td>\n",
              "      <td>...</td>\n",
              "    </tr>\n",
              "    <tr>\n",
              "      <th>166</th>\n",
              "      <td>45.84</td>\n",
              "      <td>4.44</td>\n",
              "      <td>16.56</td>\n",
              "      <td>9.12</td>\n",
              "    </tr>\n",
              "    <tr>\n",
              "      <th>167</th>\n",
              "      <td>113.04</td>\n",
              "      <td>5.88</td>\n",
              "      <td>9.72</td>\n",
              "      <td>11.64</td>\n",
              "    </tr>\n",
              "    <tr>\n",
              "      <th>168</th>\n",
              "      <td>212.40</td>\n",
              "      <td>11.16</td>\n",
              "      <td>7.68</td>\n",
              "      <td>15.36</td>\n",
              "    </tr>\n",
              "    <tr>\n",
              "      <th>169</th>\n",
              "      <td>340.32</td>\n",
              "      <td>50.40</td>\n",
              "      <td>79.44</td>\n",
              "      <td>30.60</td>\n",
              "    </tr>\n",
              "    <tr>\n",
              "      <th>170</th>\n",
              "      <td>278.52</td>\n",
              "      <td>10.32</td>\n",
              "      <td>10.44</td>\n",
              "      <td>16.08</td>\n",
              "    </tr>\n",
              "  </tbody>\n",
              "</table>\n",
              "<p>171 rows × 4 columns</p>\n",
              "</div>\n",
              "      <button class=\"colab-df-convert\" onclick=\"convertToInteractive('df-e2240813-5cc9-459e-94c1-3fcc407edc84')\"\n",
              "              title=\"Convert this dataframe to an interactive table.\"\n",
              "              style=\"display:none;\">\n",
              "        \n",
              "  <svg xmlns=\"http://www.w3.org/2000/svg\" height=\"24px\"viewBox=\"0 0 24 24\"\n",
              "       width=\"24px\">\n",
              "    <path d=\"M0 0h24v24H0V0z\" fill=\"none\"/>\n",
              "    <path d=\"M18.56 5.44l.94 2.06.94-2.06 2.06-.94-2.06-.94-.94-2.06-.94 2.06-2.06.94zm-11 1L8.5 8.5l.94-2.06 2.06-.94-2.06-.94L8.5 2.5l-.94 2.06-2.06.94zm10 10l.94 2.06.94-2.06 2.06-.94-2.06-.94-.94-2.06-.94 2.06-2.06.94z\"/><path d=\"M17.41 7.96l-1.37-1.37c-.4-.4-.92-.59-1.43-.59-.52 0-1.04.2-1.43.59L10.3 9.45l-7.72 7.72c-.78.78-.78 2.05 0 2.83L4 21.41c.39.39.9.59 1.41.59.51 0 1.02-.2 1.41-.59l7.78-7.78 2.81-2.81c.8-.78.8-2.07 0-2.86zM5.41 20L4 18.59l7.72-7.72 1.47 1.35L5.41 20z\"/>\n",
              "  </svg>\n",
              "      </button>\n",
              "      \n",
              "  <style>\n",
              "    .colab-df-container {\n",
              "      display:flex;\n",
              "      flex-wrap:wrap;\n",
              "      gap: 12px;\n",
              "    }\n",
              "\n",
              "    .colab-df-convert {\n",
              "      background-color: #E8F0FE;\n",
              "      border: none;\n",
              "      border-radius: 50%;\n",
              "      cursor: pointer;\n",
              "      display: none;\n",
              "      fill: #1967D2;\n",
              "      height: 32px;\n",
              "      padding: 0 0 0 0;\n",
              "      width: 32px;\n",
              "    }\n",
              "\n",
              "    .colab-df-convert:hover {\n",
              "      background-color: #E2EBFA;\n",
              "      box-shadow: 0px 1px 2px rgba(60, 64, 67, 0.3), 0px 1px 3px 1px rgba(60, 64, 67, 0.15);\n",
              "      fill: #174EA6;\n",
              "    }\n",
              "\n",
              "    [theme=dark] .colab-df-convert {\n",
              "      background-color: #3B4455;\n",
              "      fill: #D2E3FC;\n",
              "    }\n",
              "\n",
              "    [theme=dark] .colab-df-convert:hover {\n",
              "      background-color: #434B5C;\n",
              "      box-shadow: 0px 1px 3px 1px rgba(0, 0, 0, 0.15);\n",
              "      filter: drop-shadow(0px 1px 2px rgba(0, 0, 0, 0.3));\n",
              "      fill: #FFFFFF;\n",
              "    }\n",
              "  </style>\n",
              "\n",
              "      <script>\n",
              "        const buttonEl =\n",
              "          document.querySelector('#df-e2240813-5cc9-459e-94c1-3fcc407edc84 button.colab-df-convert');\n",
              "        buttonEl.style.display =\n",
              "          google.colab.kernel.accessAllowed ? 'block' : 'none';\n",
              "\n",
              "        async function convertToInteractive(key) {\n",
              "          const element = document.querySelector('#df-e2240813-5cc9-459e-94c1-3fcc407edc84');\n",
              "          const dataTable =\n",
              "            await google.colab.kernel.invokeFunction('convertToInteractive',\n",
              "                                                     [key], {});\n",
              "          if (!dataTable) return;\n",
              "\n",
              "          const docLinkHtml = 'Like what you see? Visit the ' +\n",
              "            '<a target=\"_blank\" href=https://colab.research.google.com/notebooks/data_table.ipynb>data table notebook</a>'\n",
              "            + ' to learn more about interactive tables.';\n",
              "          element.innerHTML = '';\n",
              "          dataTable['output_type'] = 'display_data';\n",
              "          await google.colab.output.renderOutput(dataTable, element);\n",
              "          const docLink = document.createElement('div');\n",
              "          docLink.innerHTML = docLinkHtml;\n",
              "          element.appendChild(docLink);\n",
              "        }\n",
              "      </script>\n",
              "    </div>\n",
              "  </div>\n",
              "  "
            ]
          },
          "metadata": {},
          "execution_count": 76
        }
      ]
    },
    {
      "cell_type": "code",
      "source": [
        "ds.columns"
      ],
      "metadata": {
        "colab": {
          "base_uri": "https://localhost:8080/"
        },
        "outputId": "cc8cea43-83d6-4c32-dbdf-40ed844b3ae7",
        "id": "sFT1hbBhbV7m"
      },
      "execution_count": null,
      "outputs": [
        {
          "output_type": "execute_result",
          "data": {
            "text/plain": [
              "Index(['youtube', 'facebook', 'newspaper', 'sales'], dtype='object')"
            ]
          },
          "metadata": {},
          "execution_count": 77
        }
      ]
    },
    {
      "cell_type": "code",
      "source": [
        "x=ds[['youtube', 'facebook', 'newspaper']]"
      ],
      "metadata": {
        "id": "Rgpw1x-lM_cE"
      },
      "execution_count": null,
      "outputs": []
    },
    {
      "cell_type": "code",
      "source": [
        "y=ds['sales']"
      ],
      "metadata": {
        "id": "DrRdOnfVPATi"
      },
      "execution_count": null,
      "outputs": []
    },
    {
      "cell_type": "code",
      "source": [
        "model1 = sm.ols(formula='sales ~youtube+facebook+newspaper', data=ds).fit()\n",
        "model2 = sm.ols(formula='sales ~youtube+facebook', data=ds).fit()\n",
        "model3 = sm.ols(formula='sales ~youtube', data=ds).fit()\n",
        "model4 = sm.ols(formula='sales ~facebook+newspaper', data=ds).fit()\n",
        "model5 = sm.ols(formula='sales ~newspaper', data=ds).fit()\n",
        "model6 = sm.ols(formula='sales ~youtube+newspaper', data=ds).fit()\n",
        "model7 = sm.ols(formula='sales ~facebook', data=ds).fit()"
      ],
      "metadata": {
        "id": "nJM8Dm9NbV7n"
      },
      "execution_count": null,
      "outputs": []
    },
    {
      "cell_type": "code",
      "source": [
        "print(\"Model 1\",model1.summary())\n",
        "print(\"Model 2\",model2.summary())\n",
        "print(\"Model 3\",model3.summary())\n",
        "print(\"Model 4\",model4.summary())\n",
        "print(\"Model 5\",model5.summary())\n",
        "print(\"Model 6\",model6.summary())\n",
        "print(\"Model 7\",model7.summary())"
      ],
      "metadata": {
        "id": "VhylbjfAa6ay",
        "colab": {
          "base_uri": "https://localhost:8080/"
        },
        "outputId": "200eedd4-cafc-4c38-f75a-8309cdb76ff8"
      },
      "execution_count": null,
      "outputs": [
        {
          "output_type": "stream",
          "name": "stdout",
          "text": [
            "Model 1                             OLS Regression Results                            \n",
            "==============================================================================\n",
            "Dep. Variable:                  sales   R-squared:                       0.900\n",
            "Model:                            OLS   Adj. R-squared:                  0.899\n",
            "Method:                 Least Squares   F-statistic:                     503.7\n",
            "Date:                Sat, 17 Dec 2022   Prob (F-statistic):           2.09e-83\n",
            "Time:                        06:44:02   Log-Likelihood:                -359.99\n",
            "No. Observations:                 171   AIC:                             728.0\n",
            "Df Residuals:                     167   BIC:                             740.5\n",
            "Df Model:                           3                                         \n",
            "Covariance Type:            nonrobust                                         \n",
            "==============================================================================\n",
            "                 coef    std err          t      P>|t|      [0.025      0.975]\n",
            "------------------------------------------------------------------------------\n",
            "Intercept      3.5059      0.400      8.772      0.000       2.717       4.295\n",
            "youtube        0.0452      0.002     29.830      0.000       0.042       0.048\n",
            "facebook       0.1884      0.009     20.895      0.000       0.171       0.206\n",
            "newspaper      0.0043      0.007      0.658      0.511      -0.009       0.017\n",
            "==============================================================================\n",
            "Omnibus:                       57.934   Durbin-Watson:                   2.065\n",
            "Prob(Omnibus):                  0.000   Jarque-Bera (JB):              162.792\n",
            "Skew:                          -1.388   Prob(JB):                     4.47e-36\n",
            "Kurtosis:                       6.891   Cond. No.                         544.\n",
            "==============================================================================\n",
            "\n",
            "Notes:\n",
            "[1] Standard Errors assume that the covariance matrix of the errors is correctly specified.\n",
            "Model 2                             OLS Regression Results                            \n",
            "==============================================================================\n",
            "Dep. Variable:                  sales   R-squared:                       0.900\n",
            "Model:                            OLS   Adj. R-squared:                  0.899\n",
            "Method:                 Least Squares   F-statistic:                     757.8\n",
            "Date:                Sat, 17 Dec 2022   Prob (F-statistic):           8.33e-85\n",
            "Time:                        06:44:02   Log-Likelihood:                -360.21\n",
            "No. Observations:                 171   AIC:                             726.4\n",
            "Df Residuals:                     168   BIC:                             735.8\n",
            "Df Model:                           2                                         \n",
            "Covariance Type:            nonrobust                                         \n",
            "==============================================================================\n",
            "                 coef    std err          t      P>|t|      [0.025      0.975]\n",
            "------------------------------------------------------------------------------\n",
            "Intercept      3.5937      0.376      9.555      0.000       2.851       4.336\n",
            "youtube        0.0453      0.002     30.060      0.000       0.042       0.048\n",
            "facebook       0.1901      0.009     22.045      0.000       0.173       0.207\n",
            "==============================================================================\n",
            "Omnibus:                       59.525   Durbin-Watson:                   2.077\n",
            "Prob(Omnibus):                  0.000   Jarque-Bera (JB):              174.220\n",
            "Skew:                          -1.411   Prob(JB):                     1.47e-38\n",
            "Kurtosis:                       7.061   Cond. No.                         507.\n",
            "==============================================================================\n",
            "\n",
            "Notes:\n",
            "[1] Standard Errors assume that the covariance matrix of the errors is correctly specified.\n",
            "Model 3                             OLS Regression Results                            \n",
            "==============================================================================\n",
            "Dep. Variable:                  sales   R-squared:                       0.612\n",
            "Model:                            OLS   Adj. R-squared:                  0.609\n",
            "Method:                 Least Squares   F-statistic:                     266.1\n",
            "Date:                Sat, 17 Dec 2022   Prob (F-statistic):           1.55e-36\n",
            "Time:                        06:44:02   Log-Likelihood:                -476.41\n",
            "No. Observations:                 171   AIC:                             956.8\n",
            "Df Residuals:                     169   BIC:                             963.1\n",
            "Df Model:                           1                                         \n",
            "Covariance Type:            nonrobust                                         \n",
            "==============================================================================\n",
            "                 coef    std err          t      P>|t|      [0.025      0.975]\n",
            "------------------------------------------------------------------------------\n",
            "Intercept      8.3419      0.606     13.754      0.000       7.145       9.539\n",
            "youtube        0.0482      0.003     16.312      0.000       0.042       0.054\n",
            "==============================================================================\n",
            "Omnibus:                        0.490   Durbin-Watson:                   2.005\n",
            "Prob(Omnibus):                  0.783   Jarque-Bera (JB):                0.635\n",
            "Skew:                          -0.076   Prob(JB):                        0.728\n",
            "Kurtosis:                       2.743   Cond. No.                         412.\n",
            "==============================================================================\n",
            "\n",
            "Notes:\n",
            "[1] Standard Errors assume that the covariance matrix of the errors is correctly specified.\n",
            "Model 4                             OLS Regression Results                            \n",
            "==============================================================================\n",
            "Dep. Variable:                  sales   R-squared:                       0.370\n",
            "Model:                            OLS   Adj. R-squared:                  0.363\n",
            "Method:                 Least Squares   F-statistic:                     49.37\n",
            "Date:                Sat, 17 Dec 2022   Prob (F-statistic):           1.36e-17\n",
            "Time:                        06:44:02   Log-Likelihood:                -517.74\n",
            "No. Observations:                 171   AIC:                             1041.\n",
            "Df Residuals:                     168   BIC:                             1051.\n",
            "Df Model:                           2                                         \n",
            "Covariance Type:            nonrobust                                         \n",
            "==============================================================================\n",
            "                 coef    std err          t      P>|t|      [0.025      0.975]\n",
            "------------------------------------------------------------------------------\n",
            "Intercept     10.5229      0.810     12.986      0.000       8.923      12.123\n",
            "facebook       0.2037      0.023      9.022      0.000       0.159       0.248\n",
            "newspaper      0.0217      0.016      1.334      0.184      -0.010       0.054\n",
            "==============================================================================\n",
            "Omnibus:                       19.676   Durbin-Watson:                   1.890\n",
            "Prob(Omnibus):                  0.000   Jarque-Bera (JB):               22.726\n",
            "Skew:                          -0.826   Prob(JB):                     1.16e-05\n",
            "Kurtosis:                       3.676   Cond. No.                         108.\n",
            "==============================================================================\n",
            "\n",
            "Notes:\n",
            "[1] Standard Errors assume that the covariance matrix of the errors is correctly specified.\n",
            "Model 5                             OLS Regression Results                            \n",
            "==============================================================================\n",
            "Dep. Variable:                  sales   R-squared:                       0.065\n",
            "Model:                            OLS   Adj. R-squared:                  0.059\n",
            "Method:                 Least Squares   F-statistic:                     11.75\n",
            "Date:                Sat, 17 Dec 2022   Prob (F-statistic):           0.000763\n",
            "Time:                        06:44:02   Log-Likelihood:                -551.52\n",
            "No. Observations:                 171   AIC:                             1107.\n",
            "Df Residuals:                     169   BIC:                             1113.\n",
            "Df Model:                           1                                         \n",
            "Covariance Type:            nonrobust                                         \n",
            "==============================================================================\n",
            "                 coef    std err          t      P>|t|      [0.025      0.975]\n",
            "------------------------------------------------------------------------------\n",
            "Intercept     14.6443      0.813     18.011      0.000      13.039      16.249\n",
            "newspaper      0.0647      0.019      3.428      0.001       0.027       0.102\n",
            "==============================================================================\n",
            "Omnibus:                        5.423   Durbin-Watson:                   1.937\n",
            "Prob(Omnibus):                  0.066   Jarque-Bera (JB):                5.074\n",
            "Skew:                           0.362   Prob(JB):                       0.0791\n",
            "Kurtosis:                       2.565   Cond. No.                         74.9\n",
            "==============================================================================\n",
            "\n",
            "Notes:\n",
            "[1] Standard Errors assume that the covariance matrix of the errors is correctly specified.\n",
            "Model 6                             OLS Regression Results                            \n",
            "==============================================================================\n",
            "Dep. Variable:                  sales   R-squared:                       0.640\n",
            "Model:                            OLS   Adj. R-squared:                  0.636\n",
            "Method:                 Least Squares   F-statistic:                     149.5\n",
            "Date:                Sat, 17 Dec 2022   Prob (F-statistic):           5.03e-38\n",
            "Time:                        06:44:02   Log-Likelihood:                -469.85\n",
            "No. Observations:                 171   AIC:                             945.7\n",
            "Df Residuals:                     168   BIC:                             955.1\n",
            "Df Model:                           2                                         \n",
            "Covariance Type:            nonrobust                                         \n",
            "==============================================================================\n",
            "                 coef    std err          t      P>|t|      [0.025      0.975]\n",
            "------------------------------------------------------------------------------\n",
            "Intercept      7.0259      0.687     10.228      0.000       5.670       8.382\n",
            "youtube        0.0470      0.003     16.391      0.000       0.041       0.053\n",
            "newspaper      0.0432      0.012      3.661      0.000       0.020       0.067\n",
            "==============================================================================\n",
            "Omnibus:                        0.431   Durbin-Watson:                   1.981\n",
            "Prob(Omnibus):                  0.806   Jarque-Bera (JB):                0.219\n",
            "Skew:                          -0.073   Prob(JB):                        0.896\n",
            "Kurtosis:                       3.096   Cond. No.                         490.\n",
            "==============================================================================\n",
            "\n",
            "Notes:\n",
            "[1] Standard Errors assume that the covariance matrix of the errors is correctly specified.\n",
            "Model 7                             OLS Regression Results                            \n",
            "==============================================================================\n",
            "Dep. Variable:                  sales   R-squared:                       0.364\n",
            "Model:                            OLS   Adj. R-squared:                  0.360\n",
            "Method:                 Least Squares   F-statistic:                     96.52\n",
            "Date:                Sat, 17 Dec 2022   Prob (F-statistic):           2.65e-18\n",
            "Time:                        06:44:02   Log-Likelihood:                -518.64\n",
            "No. Observations:                 171   AIC:                             1041.\n",
            "Df Residuals:                     169   BIC:                             1048.\n",
            "Df Model:                           1                                         \n",
            "Covariance Type:            nonrobust                                         \n",
            "==============================================================================\n",
            "                 coef    std err          t      P>|t|      [0.025      0.975]\n",
            "------------------------------------------------------------------------------\n",
            "Intercept     11.0417      0.712     15.497      0.000       9.635      12.448\n",
            "facebook       0.2125      0.022      9.824      0.000       0.170       0.255\n",
            "==============================================================================\n",
            "Omnibus:                       21.080   Durbin-Watson:                   1.906\n",
            "Prob(Omnibus):                  0.000   Jarque-Bera (JB):               24.968\n",
            "Skew:                          -0.847   Prob(JB):                     3.79e-06\n",
            "Kurtosis:                       3.798   Cond. No.                         60.8\n",
            "==============================================================================\n",
            "\n",
            "Notes:\n",
            "[1] Standard Errors assume that the covariance matrix of the errors is correctly specified.\n"
          ]
        }
      ]
    },
    {
      "cell_type": "code",
      "source": [
        "from sklearn.metrics import mean_squared_error \n"
      ],
      "metadata": {
        "id": "pBhQAn1dL0tV"
      },
      "execution_count": null,
      "outputs": []
    },
    {
      "cell_type": "code",
      "source": [
        "from statsmodels.tools.eval_measures import mse\n",
        "y_pred=model1.predict(x)\n",
        "print(mse(y,y_pred))\n",
        "print(y_pred)"
      ],
      "metadata": {
        "colab": {
          "base_uri": "https://localhost:8080/"
        },
        "id": "KssjAKGfO4Vs",
        "outputId": "6b9747ec-8ad0-448d-cd32-036508f6810f"
      },
      "execution_count": null,
      "outputs": [
        {
          "output_type": "stream",
          "name": "stdout",
          "text": [
            "3.945269819985827\n",
            "0      11.164980\n",
            "1      26.025064\n",
            "2      13.766342\n",
            "3       9.275311\n",
            "4      22.446400\n",
            "         ...    \n",
            "166     6.486818\n",
            "167     9.768662\n",
            "168    15.249266\n",
            "169    28.735611\n",
            "170    18.093790\n",
            "Length: 171, dtype: float64\n"
          ]
        }
      ]
    },
    {
      "cell_type": "markdown",
      "source": [
        "gradient descent\n"
      ],
      "metadata": {
        "id": "WpjGx-ZpJ7R_"
      }
    },
    {
      "cell_type": "code",
      "source": [
        "# import numpy as np"
      ],
      "metadata": {
        "id": "psh-xCk19mGn"
      },
      "execution_count": null,
      "outputs": []
    },
    {
      "cell_type": "code",
      "source": [
        "# def generatexvector(x):\n",
        "#     vectorx = np.c_[np.ones((len(x), 1)), x]\n",
        "    \n",
        "#     return vectorx\n"
      ],
      "metadata": {
        "id": "wEcRZWkZ8rtj"
      },
      "execution_count": null,
      "outputs": []
    },
    {
      "cell_type": "code",
      "source": [
        "# def theta_init(x):\n",
        "#     theta = np.random.randn(len(x[0])+1, 1)\n",
        "#     return theta"
      ],
      "metadata": {
        "id": "BikIs7BX8thi"
      },
      "execution_count": null,
      "outputs": []
    },
    {
      "cell_type": "code",
      "source": [
        "# def Multivariable_Linear_Regression(x,y,learningrate, iterations):\n",
        "#     y_new = np.reshape(y, (len(y), 1))   \n",
        "#     cost_lst = []\n",
        "#     vectorx = generatexvector(x)\n",
        "#     theta = theta_init(x)\n",
        "#     m = len(x)\n",
        "\n",
        "\n",
        "#     y_pred = vectorx.dot(theta)\n",
        "#     cost_value = 1/(len(y))*((y_pred - y)**2) \n",
        "#     total = sum([cost_value[i][0] for i in range(len(cost_value))]) \n",
        "#     print(f\"Initial mse: {total}\")\n",
        "\n",
        "#     for i in range(iterations):\n",
        "#         gradients = 2/m * vectorx.T.dot(vectorx.dot(theta) - y_new)\n",
        "#         theta = theta - learningrate * gradients\n",
        "#         y_pred = vectorx.dot(theta)\n",
        "#         cost_value = 1/(2*len(y))*((y_pred - y)**2) \n",
        "#         #Calculate the loss for each training instance\n",
        "#         total = 0\n",
        "#         for i in range(len(y)):\n",
        "#             total += cost_value[i][0] \n",
        "#             #Calculate the cost function for each iteration\n",
        "#         cost_lst.append(total)\n",
        "#     print(total)\n",
        "#     cost_value = 1/(len(y))*((y_pred - y)**2) \n",
        "#     total = sum([cost_value[i][0] for i in range(len(cost_value))]) \n",
        "#     print(f\"Final mse: {total}\")\n",
        "#     plt.plot(np.arange(1,iterations),cost_lst[1:], color = 'red')\n",
        "#     plt.title('Cost function Graph')\n",
        "#     plt.xlabel('Number of iterations')\n",
        "#     plt.ylabel('Cost')\n",
        "    return theta"
      ],
      "metadata": {
        "id": "83QRuN6O8yPa"
      },
      "execution_count": null,
      "outputs": []
    },
    {
      "cell_type": "code",
      "source": [
        "# from sklearn.preprocessing import StandardScaler\n",
        "# sc=StandardScaler()\n",
        "# x_transform=sc.fit_transform(x)\n",
        "# print(x_transform)"
      ],
      "metadata": {
        "id": "QtB18Qzf9P2L"
      },
      "execution_count": null,
      "outputs": []
    },
    {
      "cell_type": "code",
      "source": [
        "# Multivariable_Linear_Regression(x,y, 0.03, 100)\n"
      ],
      "metadata": {
        "id": "vNWiKx078GGz",
        "colab": {
          "base_uri": "https://localhost:8080/",
          "height": 345
        },
        "outputId": "0acec976-e313-495a-c575-faa87292c1f5"
      },
      "execution_count": null,
      "outputs": [
        {
          "output_type": "error",
          "ename": "ValueError",
          "evalue": "ignored",
          "traceback": [
            "\u001b[0;31m---------------------------------------------------------------------------\u001b[0m",
            "\u001b[0;31mValueError\u001b[0m                                Traceback (most recent call last)",
            "\u001b[0;32m<ipython-input-89-67e782d19c83>\u001b[0m in \u001b[0;36m<module>\u001b[0;34m\u001b[0m\n\u001b[0;32m----> 1\u001b[0;31m \u001b[0mMultivariable_Linear_Regression\u001b[0m\u001b[0;34m(\u001b[0m\u001b[0mx\u001b[0m\u001b[0;34m,\u001b[0m\u001b[0my\u001b[0m\u001b[0;34m,\u001b[0m \u001b[0;36m0.03\u001b[0m\u001b[0;34m,\u001b[0m \u001b[0;36m100\u001b[0m\u001b[0;34m)\u001b[0m\u001b[0;34m\u001b[0m\u001b[0;34m\u001b[0m\u001b[0m\n\u001b[0m",
            "\u001b[0;32m<ipython-input-87-957554c15267>\u001b[0m in \u001b[0;36mMultivariable_Linear_Regression\u001b[0;34m(x, y, learningrate, iterations)\u001b[0m\n\u001b[1;32m      1\u001b[0m \u001b[0;32mdef\u001b[0m \u001b[0mMultivariable_Linear_Regression\u001b[0m\u001b[0;34m(\u001b[0m\u001b[0mx\u001b[0m\u001b[0;34m,\u001b[0m\u001b[0my\u001b[0m\u001b[0;34m,\u001b[0m\u001b[0mlearningrate\u001b[0m\u001b[0;34m,\u001b[0m \u001b[0miterations\u001b[0m\u001b[0;34m)\u001b[0m\u001b[0;34m:\u001b[0m\u001b[0;34m\u001b[0m\u001b[0;34m\u001b[0m\u001b[0m\n\u001b[0;32m----> 2\u001b[0;31m     \u001b[0my_new\u001b[0m \u001b[0;34m=\u001b[0m \u001b[0mnp\u001b[0m\u001b[0;34m.\u001b[0m\u001b[0mreshape\u001b[0m\u001b[0;34m(\u001b[0m\u001b[0my\u001b[0m\u001b[0;34m,\u001b[0m \u001b[0;34m(\u001b[0m\u001b[0mlen\u001b[0m\u001b[0;34m(\u001b[0m\u001b[0my\u001b[0m\u001b[0;34m)\u001b[0m\u001b[0;34m,\u001b[0m \u001b[0;36m1\u001b[0m\u001b[0;34m)\u001b[0m\u001b[0;34m)\u001b[0m\u001b[0;34m\u001b[0m\u001b[0;34m\u001b[0m\u001b[0m\n\u001b[0m\u001b[1;32m      3\u001b[0m     \u001b[0mcost_lst\u001b[0m \u001b[0;34m=\u001b[0m \u001b[0;34m[\u001b[0m\u001b[0;34m]\u001b[0m\u001b[0;34m\u001b[0m\u001b[0;34m\u001b[0m\u001b[0m\n\u001b[1;32m      4\u001b[0m     \u001b[0mvectorx\u001b[0m \u001b[0;34m=\u001b[0m \u001b[0mgeneratexvector\u001b[0m\u001b[0;34m(\u001b[0m\u001b[0mx\u001b[0m\u001b[0;34m)\u001b[0m\u001b[0;34m\u001b[0m\u001b[0;34m\u001b[0m\u001b[0m\n\u001b[1;32m      5\u001b[0m     \u001b[0mtheta\u001b[0m \u001b[0;34m=\u001b[0m \u001b[0mtheta_init\u001b[0m\u001b[0;34m(\u001b[0m\u001b[0mx\u001b[0m\u001b[0;34m)\u001b[0m\u001b[0;34m\u001b[0m\u001b[0;34m\u001b[0m\u001b[0m\n",
            "\u001b[0;32m<__array_function__ internals>\u001b[0m in \u001b[0;36mreshape\u001b[0;34m(*args, **kwargs)\u001b[0m\n",
            "\u001b[0;32m/usr/local/lib/python3.8/dist-packages/numpy/core/fromnumeric.py\u001b[0m in \u001b[0;36mreshape\u001b[0;34m(a, newshape, order)\u001b[0m\n\u001b[1;32m    296\u001b[0m            [5, 6]])\n\u001b[1;32m    297\u001b[0m     \"\"\"\n\u001b[0;32m--> 298\u001b[0;31m     \u001b[0;32mreturn\u001b[0m \u001b[0m_wrapfunc\u001b[0m\u001b[0;34m(\u001b[0m\u001b[0ma\u001b[0m\u001b[0;34m,\u001b[0m \u001b[0;34m'reshape'\u001b[0m\u001b[0;34m,\u001b[0m \u001b[0mnewshape\u001b[0m\u001b[0;34m,\u001b[0m \u001b[0morder\u001b[0m\u001b[0;34m=\u001b[0m\u001b[0morder\u001b[0m\u001b[0;34m)\u001b[0m\u001b[0;34m\u001b[0m\u001b[0;34m\u001b[0m\u001b[0m\n\u001b[0m\u001b[1;32m    299\u001b[0m \u001b[0;34m\u001b[0m\u001b[0m\n\u001b[1;32m    300\u001b[0m \u001b[0;34m\u001b[0m\u001b[0m\n",
            "\u001b[0;32m/usr/local/lib/python3.8/dist-packages/numpy/core/fromnumeric.py\u001b[0m in \u001b[0;36m_wrapfunc\u001b[0;34m(obj, method, *args, **kwds)\u001b[0m\n\u001b[1;32m     52\u001b[0m     \u001b[0mbound\u001b[0m \u001b[0;34m=\u001b[0m \u001b[0mgetattr\u001b[0m\u001b[0;34m(\u001b[0m\u001b[0mobj\u001b[0m\u001b[0;34m,\u001b[0m \u001b[0mmethod\u001b[0m\u001b[0;34m,\u001b[0m \u001b[0;32mNone\u001b[0m\u001b[0;34m)\u001b[0m\u001b[0;34m\u001b[0m\u001b[0;34m\u001b[0m\u001b[0m\n\u001b[1;32m     53\u001b[0m     \u001b[0;32mif\u001b[0m \u001b[0mbound\u001b[0m \u001b[0;32mis\u001b[0m \u001b[0;32mNone\u001b[0m\u001b[0;34m:\u001b[0m\u001b[0;34m\u001b[0m\u001b[0;34m\u001b[0m\u001b[0m\n\u001b[0;32m---> 54\u001b[0;31m         \u001b[0;32mreturn\u001b[0m \u001b[0m_wrapit\u001b[0m\u001b[0;34m(\u001b[0m\u001b[0mobj\u001b[0m\u001b[0;34m,\u001b[0m \u001b[0mmethod\u001b[0m\u001b[0;34m,\u001b[0m \u001b[0;34m*\u001b[0m\u001b[0margs\u001b[0m\u001b[0;34m,\u001b[0m \u001b[0;34m**\u001b[0m\u001b[0mkwds\u001b[0m\u001b[0;34m)\u001b[0m\u001b[0;34m\u001b[0m\u001b[0;34m\u001b[0m\u001b[0m\n\u001b[0m\u001b[1;32m     55\u001b[0m \u001b[0;34m\u001b[0m\u001b[0m\n\u001b[1;32m     56\u001b[0m     \u001b[0;32mtry\u001b[0m\u001b[0;34m:\u001b[0m\u001b[0;34m\u001b[0m\u001b[0;34m\u001b[0m\u001b[0m\n",
            "\u001b[0;32m/usr/local/lib/python3.8/dist-packages/numpy/core/fromnumeric.py\u001b[0m in \u001b[0;36m_wrapit\u001b[0;34m(obj, method, *args, **kwds)\u001b[0m\n\u001b[1;32m     45\u001b[0m         \u001b[0;32mif\u001b[0m \u001b[0;32mnot\u001b[0m \u001b[0misinstance\u001b[0m\u001b[0;34m(\u001b[0m\u001b[0mresult\u001b[0m\u001b[0;34m,\u001b[0m \u001b[0mmu\u001b[0m\u001b[0;34m.\u001b[0m\u001b[0mndarray\u001b[0m\u001b[0;34m)\u001b[0m\u001b[0;34m:\u001b[0m\u001b[0;34m\u001b[0m\u001b[0;34m\u001b[0m\u001b[0m\n\u001b[1;32m     46\u001b[0m             \u001b[0mresult\u001b[0m \u001b[0;34m=\u001b[0m \u001b[0masarray\u001b[0m\u001b[0;34m(\u001b[0m\u001b[0mresult\u001b[0m\u001b[0;34m)\u001b[0m\u001b[0;34m\u001b[0m\u001b[0;34m\u001b[0m\u001b[0m\n\u001b[0;32m---> 47\u001b[0;31m         \u001b[0mresult\u001b[0m \u001b[0;34m=\u001b[0m \u001b[0mwrap\u001b[0m\u001b[0;34m(\u001b[0m\u001b[0mresult\u001b[0m\u001b[0;34m)\u001b[0m\u001b[0;34m\u001b[0m\u001b[0;34m\u001b[0m\u001b[0m\n\u001b[0m\u001b[1;32m     48\u001b[0m     \u001b[0;32mreturn\u001b[0m \u001b[0mresult\u001b[0m\u001b[0;34m\u001b[0m\u001b[0;34m\u001b[0m\u001b[0m\n\u001b[1;32m     49\u001b[0m \u001b[0;34m\u001b[0m\u001b[0m\n",
            "\u001b[0;32m/usr/local/lib/python3.8/dist-packages/pandas/core/generic.py\u001b[0m in \u001b[0;36m__array_wrap__\u001b[0;34m(self, result, context)\u001b[0m\n\u001b[1;32m   2023\u001b[0m         \u001b[0;31m# error: Argument 1 to \"NDFrame\" has incompatible type \"ndarray\";\u001b[0m\u001b[0;34m\u001b[0m\u001b[0;34m\u001b[0m\u001b[0;34m\u001b[0m\u001b[0m\n\u001b[1;32m   2024\u001b[0m         \u001b[0;31m# expected \"BlockManager\"\u001b[0m\u001b[0;34m\u001b[0m\u001b[0;34m\u001b[0m\u001b[0;34m\u001b[0m\u001b[0m\n\u001b[0;32m-> 2025\u001b[0;31m         return self._constructor(res, **d).__finalize__(  # type: ignore[arg-type]\n\u001b[0m\u001b[1;32m   2026\u001b[0m             \u001b[0mself\u001b[0m\u001b[0;34m,\u001b[0m \u001b[0mmethod\u001b[0m\u001b[0;34m=\u001b[0m\u001b[0;34m\"__array_wrap__\"\u001b[0m\u001b[0;34m\u001b[0m\u001b[0;34m\u001b[0m\u001b[0m\n\u001b[1;32m   2027\u001b[0m         )\n",
            "\u001b[0;32m/usr/local/lib/python3.8/dist-packages/pandas/core/series.py\u001b[0m in \u001b[0;36m__init__\u001b[0;34m(self, data, index, dtype, name, copy, fastpath)\u001b[0m\n\u001b[1;32m    437\u001b[0m                     \u001b[0mdata\u001b[0m \u001b[0;34m=\u001b[0m \u001b[0mdata\u001b[0m\u001b[0;34m.\u001b[0m\u001b[0mcopy\u001b[0m\u001b[0;34m(\u001b[0m\u001b[0;34m)\u001b[0m\u001b[0;34m\u001b[0m\u001b[0;34m\u001b[0m\u001b[0m\n\u001b[1;32m    438\u001b[0m             \u001b[0;32melse\u001b[0m\u001b[0;34m:\u001b[0m\u001b[0;34m\u001b[0m\u001b[0;34m\u001b[0m\u001b[0m\n\u001b[0;32m--> 439\u001b[0;31m                 \u001b[0mdata\u001b[0m \u001b[0;34m=\u001b[0m \u001b[0msanitize_array\u001b[0m\u001b[0;34m(\u001b[0m\u001b[0mdata\u001b[0m\u001b[0;34m,\u001b[0m \u001b[0mindex\u001b[0m\u001b[0;34m,\u001b[0m \u001b[0mdtype\u001b[0m\u001b[0;34m,\u001b[0m \u001b[0mcopy\u001b[0m\u001b[0;34m)\u001b[0m\u001b[0;34m\u001b[0m\u001b[0;34m\u001b[0m\u001b[0m\n\u001b[0m\u001b[1;32m    440\u001b[0m \u001b[0;34m\u001b[0m\u001b[0m\n\u001b[1;32m    441\u001b[0m                 \u001b[0mmanager\u001b[0m \u001b[0;34m=\u001b[0m \u001b[0mget_option\u001b[0m\u001b[0;34m(\u001b[0m\u001b[0;34m\"mode.data_manager\"\u001b[0m\u001b[0;34m)\u001b[0m\u001b[0;34m\u001b[0m\u001b[0;34m\u001b[0m\u001b[0m\n",
            "\u001b[0;32m/usr/local/lib/python3.8/dist-packages/pandas/core/construction.py\u001b[0m in \u001b[0;36msanitize_array\u001b[0;34m(data, index, dtype, copy, raise_cast_failure, allow_2d)\u001b[0m\n\u001b[1;32m    574\u001b[0m                 \u001b[0msubarr\u001b[0m \u001b[0;34m=\u001b[0m \u001b[0mmaybe_infer_to_datetimelike\u001b[0m\u001b[0;34m(\u001b[0m\u001b[0msubarr\u001b[0m\u001b[0;34m)\u001b[0m\u001b[0;34m\u001b[0m\u001b[0;34m\u001b[0m\u001b[0m\n\u001b[1;32m    575\u001b[0m \u001b[0;34m\u001b[0m\u001b[0m\n\u001b[0;32m--> 576\u001b[0;31m     \u001b[0msubarr\u001b[0m \u001b[0;34m=\u001b[0m \u001b[0m_sanitize_ndim\u001b[0m\u001b[0;34m(\u001b[0m\u001b[0msubarr\u001b[0m\u001b[0;34m,\u001b[0m \u001b[0mdata\u001b[0m\u001b[0;34m,\u001b[0m \u001b[0mdtype\u001b[0m\u001b[0;34m,\u001b[0m \u001b[0mindex\u001b[0m\u001b[0;34m,\u001b[0m \u001b[0mallow_2d\u001b[0m\u001b[0;34m=\u001b[0m\u001b[0mallow_2d\u001b[0m\u001b[0;34m)\u001b[0m\u001b[0;34m\u001b[0m\u001b[0;34m\u001b[0m\u001b[0m\n\u001b[0m\u001b[1;32m    577\u001b[0m \u001b[0;34m\u001b[0m\u001b[0m\n\u001b[1;32m    578\u001b[0m     \u001b[0;32mif\u001b[0m \u001b[0misinstance\u001b[0m\u001b[0;34m(\u001b[0m\u001b[0msubarr\u001b[0m\u001b[0;34m,\u001b[0m \u001b[0mnp\u001b[0m\u001b[0;34m.\u001b[0m\u001b[0mndarray\u001b[0m\u001b[0;34m)\u001b[0m\u001b[0;34m:\u001b[0m\u001b[0;34m\u001b[0m\u001b[0;34m\u001b[0m\u001b[0m\n",
            "\u001b[0;32m/usr/local/lib/python3.8/dist-packages/pandas/core/construction.py\u001b[0m in \u001b[0;36m_sanitize_ndim\u001b[0;34m(result, data, dtype, index, allow_2d)\u001b[0m\n\u001b[1;32m    625\u001b[0m             \u001b[0;32mif\u001b[0m \u001b[0mallow_2d\u001b[0m\u001b[0;34m:\u001b[0m\u001b[0;34m\u001b[0m\u001b[0;34m\u001b[0m\u001b[0m\n\u001b[1;32m    626\u001b[0m                 \u001b[0;32mreturn\u001b[0m \u001b[0mresult\u001b[0m\u001b[0;34m\u001b[0m\u001b[0;34m\u001b[0m\u001b[0m\n\u001b[0;32m--> 627\u001b[0;31m             \u001b[0;32mraise\u001b[0m \u001b[0mValueError\u001b[0m\u001b[0;34m(\u001b[0m\u001b[0;34m\"Data must be 1-dimensional\"\u001b[0m\u001b[0;34m)\u001b[0m\u001b[0;34m\u001b[0m\u001b[0;34m\u001b[0m\u001b[0m\n\u001b[0m\u001b[1;32m    628\u001b[0m         \u001b[0;32mif\u001b[0m \u001b[0mis_object_dtype\u001b[0m\u001b[0;34m(\u001b[0m\u001b[0mdtype\u001b[0m\u001b[0;34m)\u001b[0m \u001b[0;32mand\u001b[0m \u001b[0misinstance\u001b[0m\u001b[0;34m(\u001b[0m\u001b[0mdtype\u001b[0m\u001b[0;34m,\u001b[0m \u001b[0mExtensionDtype\u001b[0m\u001b[0;34m)\u001b[0m\u001b[0;34m:\u001b[0m\u001b[0;34m\u001b[0m\u001b[0;34m\u001b[0m\u001b[0m\n\u001b[1;32m    629\u001b[0m             \u001b[0;31m# i.e. PandasDtype(\"O\")\u001b[0m\u001b[0;34m\u001b[0m\u001b[0;34m\u001b[0m\u001b[0;34m\u001b[0m\u001b[0m\n",
            "\u001b[0;31mValueError\u001b[0m: Data must be 1-dimensional"
          ]
        }
      ]
    },
    {
      "cell_type": "code",
      "source": [
        "# import pandas as pd\n",
        "# x= pd.DataFrame.reindex_axis(['youtube', 'facebook', 'newspaper'], axis=1)\n"
      ],
      "metadata": {
        "id": "rW3oGVBcXPk1"
      },
      "execution_count": null,
      "outputs": []
    },
    {
      "cell_type": "code",
      "source": [
        "# import numpy as np\n",
        "# x = np.array(x)\n",
        "# y = np.array(y)\n",
        "\n",
        "# # Theta needed to be changed with the number of response varaible used.\n",
        "# theta = np.matrix(np.array([0,0,0,0])) \n",
        "# alpha = 0.03\n",
        "# iterations = 1000\n",
        "\n",
        "# import numpy as np\n",
        "\n",
        "# def compute_cost(x, y, theta):\n",
        "#     return np.sum(np.square(np.matmul(x, theta) - y)) / (2 * len(y))\n",
        "\n",
        "# def gradient_descent_multi(x, y, theta, alpha, iterations):\n",
        "#     theta = np.zeros(x.shape[1])\n",
        "#     m = len(x)\n",
        "#     gdm_df = pd.DataFrame( columns = ['Bets','cost'])\n",
        "\n",
        "#     for i in range(iterations):\n",
        "#         gradient = (1/m) * np.matmul(x.T, np.matmul(x, theta) - y)\n",
        "#         theta = theta - alpha * gradient\n",
        "#         cost = compute_cost(x, y, theta)\n",
        "#         gdm_df.loc[i] = [theta,cost]\n",
        "\n",
        "#     return gdm_df\n",
        "\n",
        "# print(gradient_descent_multi(x, y, theta, alpha, iterations).values[999])\n",
        "\n",
        "\n",
        "# gradient_descent_multi(x, y, theta, alpha, iterations).reset_index().plot.line(x='index', y=['cost'],color='red')"
      ],
      "metadata": {
        "id": "SmRqnJVfVlXO"
      },
      "execution_count": null,
      "outputs": []
    },
    {
      "cell_type": "code",
      "source": [
        "# from sklearn.linear_model import LinearRegression\n",
        "\n",
        "# # Representing LinearRegression as lr(Creating LinearRegression Object)\n",
        "# lr = LinearRegression()\n",
        "\n",
        "# #You don't need to specify an object to save the result because 'lr' will take the results of the fitted model.\n",
        "# lr.fit(x, y)"
      ],
      "metadata": {
        "id": "73HBr62HYs-M"
      },
      "execution_count": null,
      "outputs": []
    },
    {
      "cell_type": "code",
      "source": [
        "m,n = x.shape\n",
        "from mpl_toolkits.mplot3d import Axes3D\n",
        "def cost_function(x, y, theta):\n",
        "  m = y.size\n",
        "  error = np.dot(x, theta.T) - y\n",
        "  cost = 1/(2*m) * np.dot(error.T, error)\n",
        "  return cost, error\n",
        "\n",
        "def gradient_descent(x, y, theta, alpha, iters):\n",
        "  cost_array = np.zeros(iters)\n",
        "  m = y.size\n",
        "  for i in range(iters):\n",
        "    cost, error = cost_function(x, y, theta)\n",
        "    theta = theta - (alpha * (1/m) * np.dot(x.T, error))\n",
        "    cost_array[i] = cost\n",
        "  return theta, cost_array\n",
        "\n",
        "def plotChart(iterations, cost_num):\n",
        "  fig, ax = plt.subplots()\n",
        "  ax.plot(np.arange(iterations), cost_num, 'r')\n",
        "  ax.set_xlabel('Iterations')\n",
        "  ax.set_ylabel('Cost')\n",
        "  ax.set_title('cost function graph')\n",
        "  # plt.style.use('fivethirtyeight')\n",
        "  plt.show()\n",
        "\n",
        "def run():\n",
        "  x = ds[['youtube', 'facebook', 'newspaper']]\n",
        "  y = ds['sales']\n",
        "  x = (x - x.mean()) / x.std()\n",
        "  x = np.c_[np.ones(x.shape[0]), x]\n",
        "  alpha = 0.003\n",
        "  iterations = 1000\n",
        "  theta = np.array(([3.5059,0.0452,0.1884,0.0043]))\n",
        "  initial_cost, _ = cost_function(x, y, theta)\n",
        "  print('With initial theta values of {0}, cost error is {1}'.format(theta, initial_cost))\n",
        "  theta, cost_num = gradient_descent(x, y, theta, alpha, iterations)\n",
        "  plotChart(iterations, cost_num)\n",
        "  final_cost, _ = cost_function(x, y, theta)\n",
        "  print('With final theta values of {0}, cost error is {1}'.format(theta, final_cost))\n",
        "if __name__ == \"__main__\":\n",
        "  run()"
      ],
      "metadata": {
        "id": "76Q3t0qzY3wK",
        "colab": {
          "base_uri": "https://localhost:8080/",
          "height": 360
        },
        "outputId": "3e23edcc-ddbe-44b1-85fc-4ed3a5d6ace9"
      },
      "execution_count": null,
      "outputs": [
        {
          "output_type": "stream",
          "name": "stdout",
          "text": [
            "With initial theta values of [3.5059 0.0452 0.1884 0.0043], cost error is 108.90503378675594\n"
          ]
        },
        {
          "output_type": "display_data",
          "data": {
            "text/plain": [
              "<Figure size 432x288 with 1 Axes>"
            ],
            "image/png": "[encoded data removed]"
          },
          "metadata": {}
        },
        {
          "output_type": "stream",
          "name": "stdout",
          "text": [
            "With final theta values of [16.25782374  4.4112457   3.18399053  0.31560663], cost error is 2.245199390023026\n"
          ]
        }
      ]
    },
    {
      "cell_type": "code",
      "source": [
        "x = ds[['youtube', 'facebook', 'newspaper']]\n",
        "from statsmodels.tools.eval_measures import mse\n",
        "model2 = sm.ols(formula='sales ~youtube+facebook+newspaper', data=ds).fit()\n",
        "y_pred_reduced=model2.predict(x)\n",
        "print(mse(y,y_pred_reduced))\n",
        "print(y_pred_reduced)"
      ],
      "metadata": {
        "id": "npgjRPLZx7h1",
        "colab": {
          "base_uri": "https://localhost:8080/"
        },
        "outputId": "42224c6c-79dd-4d45-d2d4-24a097f06161"
      },
      "execution_count": null,
      "outputs": [
        {
          "output_type": "stream",
          "name": "stdout",
          "text": [
            "3.945269819985827\n",
            "0      11.164980\n",
            "1      26.025064\n",
            "2      13.766342\n",
            "3       9.275311\n",
            "4      22.446400\n",
            "         ...    \n",
            "166     6.486818\n",
            "167     9.768662\n",
            "168    15.249266\n",
            "169    28.735611\n",
            "170    18.093790\n",
            "Length: 171, dtype: float64\n"
          ]
        }
      ]
    }
  ]
}