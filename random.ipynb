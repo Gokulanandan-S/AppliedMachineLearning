{
 "cells": [
  {
   "cell_type": "code",
   "execution_count": 1,
   "metadata": {},
   "outputs": [],
   "source": [
    "\n",
    "import numpy as np \n",
    "import matplotlib.pyplot as plt \n",
    "import pandas as pd\n",
    "import seaborn as sns"
   ]
  },
  {
   "cell_type": "code",
   "execution_count": 2,
   "metadata": {},
   "outputs": [],
   "source": [
    "data = pd.read_csv('Social_Network_Ads.csv')\n",
    "x =data.iloc[:,:-1].values \n",
    "y = data.iloc[:,-1].values\n"
   ]
  },
  {
   "cell_type": "code",
   "execution_count": 3,
   "metadata": {},
   "outputs": [
    {
     "name": "stdout",
     "output_type": "stream",
     "text": [
      "the shape of independent variables  (400, 2)\n",
      "the shape of dependent variables  (400,)\n"
     ]
    }
   ],
   "source": [
    "print('the shape of independent variables ' , x.shape)\n",
    "print('the shape of dependent variables ' , y.shape)"
   ]
  },
  {
   "cell_type": "code",
   "execution_count": 4,
   "metadata": {},
   "outputs": [
    {
     "name": "stdout",
     "output_type": "stream",
     "text": [
      "the first five data instances of the independent variables \n"
     ]
    },
    {
     "data": {
      "text/plain": [
       "array([[   19, 19000],\n",
       "       [   35, 20000],\n",
       "       [   26, 43000],\n",
       "       [   27, 57000],\n",
       "       [   19, 76000]], dtype=int64)"
      ]
     },
     "execution_count": 4,
     "metadata": {},
     "output_type": "execute_result"
    }
   ],
   "source": [
    "# independent variables in data set - sepalwidth , sepallength , petallength , petalwidth\n",
    "# dependent variable class\n",
    "print('the first five data instances of the independent variables ')\n",
    "x[:5]"
   ]
  },
  {
   "cell_type": "code",
   "execution_count": 5,
   "metadata": {},
   "outputs": [
    {
     "name": "stdout",
     "output_type": "stream",
     "text": [
      "the first five data instances of the independent variables \n"
     ]
    },
    {
     "data": {
      "text/plain": [
       "array([0, 0, 0, 0, 0], dtype=int64)"
      ]
     },
     "execution_count": 5,
     "metadata": {},
     "output_type": "execute_result"
    }
   ],
   "source": [
    "print('the first five data instances of the independent variables ')\n",
    "y[:5]"
   ]
  },
  {
   "cell_type": "code",
   "execution_count": 6,
   "metadata": {},
   "outputs": [],
   "source": [
    "# train test splitting the data set \n",
    "from sklearn.model_selection import train_test_split\n",
    "x_train , x_test , y_tarin , y_test = train_test_split(x,y,test_size = 0.25,random_state= 2)\n"
   ]
  },
  {
   "cell_type": "code",
   "execution_count": 7,
   "metadata": {},
   "outputs": [],
   "source": [
    "# model built  using  information gain (entropy)\n",
    "from sklearn.ensemble import RandomForestClassifier\n",
    "rfi_model = RandomForestClassifier(n_estimators=100 , criterion= 'entropy')"
   ]
  },
  {
   "cell_type": "code",
   "execution_count": 8,
   "metadata": {},
   "outputs": [],
   "source": [
    "# model built  using  gini index \n",
    "rfg_model = RandomForestClassifier(n_estimators=100, criterion= \"gini\")"
   ]
  },
  {
   "cell_type": "code",
   "execution_count": 9,
   "metadata": {},
   "outputs": [
    {
     "name": "stdout",
     "output_type": "stream",
     "text": [
      "the accuracy : 0.86\n",
      "the precision score : 0.8500000000000001\n",
      "the recall score : 0.8565365025466893\n"
     ]
    }
   ],
   "source": [
    "rfi_model.fit(x_train, y_tarin)\n",
    "y_pred = rfi_model.predict(x_test)\n",
    "from sklearn.metrics import accuracy_score,precision_score,recall_score\n",
    "accuracy = accuracy_score(y_test, y_pred)\n",
    "precision = precision_score(y_test, y_pred,average = 'macro')\n",
    "recall = recall_score(y_test, y_pred,average = 'macro')\n",
    "print('the accuracy :',accuracy)\n",
    "print('the precision score :',precision)\n",
    "print('the recall score :',recall)\n"
   ]
  },
  {
   "cell_type": "code",
   "execution_count": 10,
   "metadata": {},
   "outputs": [
    {
     "name": "stdout",
     "output_type": "stream",
     "text": [
      "area under the curve is  0.8565365025466892\n"
     ]
    },
    {
     "data": {
      "image/png": "[encoded data removed]",
      "text/plain": [
       "<Figure size 432x288 with 1 Axes>"
      ]
     },
     "metadata": {
      "needs_background": "light"
     },
     "output_type": "display_data"
    }
   ],
   "source": [
    "from sklearn import metrics\n",
    "y_pred = rfi_model.predict(x_test)\n",
    "fpr, tpr, _ = metrics.roc_curve(y_test, y_pred)\n",
    "auc = metrics.roc_auc_score(y_test, y_pred)\n",
    "plt.plot(fpr,tpr)\n",
    "print('area under the curve is ',auc)\n",
    "plt.xlim(0,1)\n",
    "plt.ylim(0,1)\n",
    "plt.ylabel('True Positive Rate')\n",
    "plt.xlabel('False Positive Rate')\n",
    "plt.show()"
   ]
  },
  {
   "cell_type": "code",
   "execution_count": 11,
   "metadata": {},
   "outputs": [
    {
     "name": "stdout",
     "output_type": "stream",
     "text": [
      "the accuracy : 0.86\n",
      "the precision score : 0.8500000000000001\n",
      "the recall score : 0.8565365025466893\n"
     ]
    }
   ],
   "source": [
    "#  accuracy and precision and recall \n",
    "rfg_model.fit(x_train, y_tarin)\n",
    "y_pred = rfg_model.predict(x_test)\n",
    "from sklearn.metrics import accuracy_score,precision_score,recall_score\n",
    "accuracy = accuracy_score(y_test, y_pred)\n",
    "precision = precision_score(y_test, y_pred,average = 'macro')\n",
    "recall = recall_score(y_test, y_pred,average = 'macro')\n",
    "print('the accuracy :',accuracy)\n",
    "print('the precision score :',precision)\n",
    "print('the recall score :',recall)"
   ]
  },
  {
   "cell_type": "code",
   "execution_count": 12,
   "metadata": {},
   "outputs": [
    {
     "name": "stdout",
     "output_type": "stream",
     "text": [
      "area under the curve is  0.8565365025466892\n"
     ]
    },
    {
     "data": {
      "image/png": "[encoded data removed]",
      "text/plain": [
       "<Figure size 432x288 with 1 Axes>"
      ]
     },
     "metadata": {
      "needs_background": "light"
     },
     "output_type": "display_data"
    }
   ],
   "source": [
    "from sklearn import metrics\n",
    "y_pred = rfg_model.predict(x_test)\n",
    "fpr, tpr, _ = metrics.roc_curve(y_test, y_pred)\n",
    "auc = metrics.roc_auc_score(y_test, y_pred)\n",
    "plt.plot(fpr,tpr)\n",
    "print('area under the curve is ',auc)\n",
    "plt.xlim(0,1)\n",
    "plt.ylim(0,1)\n",
    "plt.ylabel('True Positive Rate')\n",
    "plt.xlabel('False Positive Rate')\n",
    "plt.show()"
   ]
  }
 ],
 "metadata": {
  "kernelspec": {
   "display_name": "Python 3",
   "language": "python",
   "name": "python3"
  },
  "language_info": {
   "codemirror_mode": {
    "name": "ipython",
    "version": 3
   },
   "file_extension": ".py",
   "mimetype": "text/x-python",
   "name": "python",
   "nbconvert_exporter": "python",
   "pygments_lexer": "ipython3",
   "version": "3.10.2"
  },
  "orig_nbformat": 4,
  "vscode": {
   "interpreter": {
    "hash": "0776b4806a0006309bc6dabf7a0f037656b0ddb135bb226e2f097800b67e91ee"
   }
  }
 },
 "nbformat": 4,
 "nbformat_minor": 2
}
